{
 "cells": [
  {
   "cell_type": "markdown",
   "metadata": {},
   "source": [
    "# COVID-19 demographic disparities\n",
    "\n",
    "### Human Centered Data Science - Final Project"
   ]
  },
  {
   "cell_type": "markdown",
   "metadata": {},
   "source": [
    "## Project Motivation"
   ]
  },
  {
   "cell_type": "markdown",
   "metadata": {},
   "source": [
    "The global health crisis of year 2020, COVID-19 is spreading human suffering, killing people, impacting businesses and changing lives of people forever. It isn't only a disease, but it is a human, economic and social crisis. The coronavirus disease (COVID-19), is attacking societies at their core. Though COVID-19 pandemic affects all segments of the population, it is observed that there is significant demographic disparity in COVID-19 cases and its impact.  COVID-19 seems particularly detrimental to members of those social groups in the most vulnerable situations, continues to affect populations, including people living in poverty situations, older persons, persons with disabilities, youth, and indigenous peoples. Early evidence indicates that that the health and economic impacts of the virus are being borne disproportionately by poor people. I am personally deeply saddened with COVID-19 outbreak itself, however it's more disturbing to see that certain segment of scociety has to suffer more than usual, adding to their existing difficulties.  \n",
    "\n",
    "As a student of Human Centered Data Science, I am intrigued to study the COVID-19 cases and their impact on various segments of poulation and analzye if there are significant demographic disparities of this pandemic. It will be  revealing analysis project to study how COVID-19 impact is seen at varying levels between people of certain ethnicities, age groups, income groups and geographic locations. I am interested in analyzing COVID-19 cases data by applying Human Centered Data Science practices so as to come up better answers to find any significant disparities in COVID-19 impact. This analysis will be useful to raise awareness in society as well as governmental agencies so that appropriate actions can be taken to minimize the COVID-19 impact on all segments on society. "
   ]
  },
  {
   "cell_type": "markdown",
   "metadata": {},
   "source": [
    "## Dataset\n",
    "\n",
    "There are various sources of data available on internet to perform this study. I found one reliable source of data at 'Center of Disease Control and Prevention' website [cdc.gov](https://www.cdc.gov/). This data is maintained authoritatively by CDC, is updated frequently, is publicly available, and undergoes stringent data quality assurance routines. The COVID-19 case surveillance system database includes patient-level data reported to U.S. states and autonomous reporting entities, including New York City and the District of Columbia, as well as U.S. territories and states. These deidentified data include demographic characteristics, exposure history, disease severity indicators and outcomes.\n",
    "\n",
    "[COVID-19 Case Surveillance data](https://data.cdc.gov/Case-Surveillance/COVID-19-Case-Surveillance-Public-Use-Data/vbim-akqf/data)\n",
    "\n",
    "\n",
    "Terms of Use for these datasets are documented in detail at [COVID-19 Case Surveillance Public Use Data](https://data.cdc.gov/Case-Surveillance/COVID-19-Case-Surveillance-Public-Use-Data/vbim-akqf/data)\n",
    "\n",
    "The Case Surveillance Task Force and Surveillance Review and Response Group (SRRG) within CDC’s COVID-19 Response provide stewardship for datasets that support the public health community’s access to COVID-19 data while protecting patient privacy."
   ]
  },
  {
   "cell_type": "markdown",
   "metadata": {},
   "source": [
    "## Research Questions:  \n",
    "\n",
    "This project focuses its analysis on COVID-19 case surveillance data to understand demographic disparities in COVID-19 cases and their varying degree of impact on different segments of society.\n",
    "- Are people from specific race and ethnicity (combined) got COVID-19 infection at higher rate than others? \n",
    "- Are people from specific age-group more prone to COVID-19 infection than others? \n",
    "- Is COVID-19 death rate more prevalent in specific race and ethnicity (combined) than others? \n"
   ]
  },
  {
   "attachments": {},
   "cell_type": "markdown",
   "metadata": {},
   "source": [
    "## Related Work\n",
    "\n",
    "\n",
    "\n",
    "With widespread devastating impacts of COVID-19, there is significant amount of research being conducted throughout the world. The preliminary analysis available on CDC official website ([cdc.gov](https://www.cdc.gov/nchs/nvss/vsrr/covid19/health_disparities.htm)) shows that COVID-19 death ratio is significantly higher in Non-Hispanic White population than others. The latest research conducted by APM research lab ([source link](https://www.apmresearchlab.org/covid/deaths-by-race#:~:text=The%20COVID%2D19%20death%20rate,per%20100%2C000%2C%20as%20shown%20below.)) reveals that Black and Indigenous Americans continue to suffer the greatest loss of life—with both groups now experiencing a COVID-19 death toll exceeding 1 in 1,000 nationally. There are several other research being published on this and I will accommodate some of these during my project research work."
   ]
  },
  {
   "attachments": {},
   "cell_type": "markdown",
   "metadata": {},
   "source": [
    "## Methodology\n",
    "\n",
    "For this COVID-19 demographic disparities analysis, given large quantitative data and multiple demographic dimensions, it would be interested to perform visual exploratory data analysis (EDA) first using different packages available in Python programming language. I choose to perform visual exploratory data analysis first because it gives more objective view of data in most intuitive way and easier to understand by anyone else reproducing it. Given the human centered aspect of analysis I am intrigued to slice and dice the analysis with various human dimensions such as Age group, race and ethnicity etc.  Further statistical summary analysis of this data will be performed to get better perspective on distribution of data. All these analysis methodologies and any other that might come up during analysis will be extensively used to answer research questions. "
   ]
  },
  {
   "cell_type": "markdown",
   "metadata": {},
   "source": [
    "## Limitations\n",
    "\n",
    "- As data available is limited to United Stated only, this project analysis will be scoped to this dataset only"
   ]
  },
  {
   "cell_type": "markdown",
   "metadata": {},
   "source": [
    "## Unknowns\n",
    "- As analysis progresses, it is possible some additional demographic data sources may become available which could improve analysis results for this project. If any complementary datasets became available, I would like to use these in for this analysis. "
   ]
  },
  {
   "cell_type": "code",
   "execution_count": null,
   "metadata": {},
   "outputs": [],
   "source": []
  }
 ],
 "metadata": {
  "kernelspec": {
   "display_name": "Python 3",
   "language": "python",
   "name": "python3"
  },
  "language_info": {
   "codemirror_mode": {
    "name": "ipython",
    "version": 3
   },
   "file_extension": ".py",
   "mimetype": "text/x-python",
   "name": "python",
   "nbconvert_exporter": "python",
   "pygments_lexer": "ipython3",
   "version": "3.7.4"
  }
 },
 "nbformat": 4,
 "nbformat_minor": 2
}
