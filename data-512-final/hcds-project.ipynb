{
 "cells": [
  {
   "cell_type": "markdown",
   "metadata": {},
   "source": [
    "# COVID-19 demographic disparities\n",
    "\n",
    "### Human Centered Data Science - Final Project"
   ]
  },
  {
   "cell_type": "markdown",
   "metadata": {},
   "source": [
    "## Project Motivation"
   ]
  },
  {
   "cell_type": "markdown",
   "metadata": {},
   "source": [
    "The global health crisis of year 2020, COVID-19 is spreading human suffering, killing people, impacting businesses and changing lives of people forever. It isn't only a disease, but it is a human, economic and social crisis. The coronavirus disease (COVID-19), is attacking societies at their core. Though COVID-19 pandemic affects all segments of the population, it is observed that there is significant demographic disparity in COVID-19 cases and its impact.  COVID-19 seems particularly detrimental to members of those social groups in the most vulnerable situations, continues to affect populations, including people living in poverty situations, older persons, persons with disabilities, youth, and indigenous peoples. Early evidence indicates that that the health and economic impacts of the virus are being borne disproportionately by poor people. I am personally deeply saddened with COVID-19 outbreak itself, however it's more disturbing to see that certain segment of scociety has to suffer more than usual, adding to their existing difficulties.  \n",
    "\n",
    "As a student of Human Centered Data Science, I am intrigued to study the COVID-19 cases and their impact on various segments of poulation and analzye if there are significant demographic disparities of this pandemic. It will be  revealing analysis project to study how COVID-19 impact is seen at varying levels between people of certain ethnicities, age groups, income groups and geographic locations. I am interested in analyzing COVID-19 cases data by applying Human Centered Data Science practices so as to come up better answers to find any significant disparities in COVID-19 impact. This analysis will be useful to raise awareness in society as well as governmental agencies so that appropriate actions can be taken to minimize the COVID-19 impact on all segments on society. "
   ]
  },
  {
   "cell_type": "markdown",
   "metadata": {},
   "source": [
    "## Dataset\n",
    "\n",
    "There are various sources of data available on internet to perform this study. I found one reliable source of data at 'Center of Disease Control and Prevention' website [cdc.gov](https://www.cdc.gov/). This data is maintained authoritatively by CDC, is updated frequently, is publicly available, and undergoes stringent data quality assurance routines. The COVID-19 case surveillance system database includes patient-level data reported to U.S. states and autonomous reporting entities, including New York City and the District of Columbia, as well as U.S. territories and states. These deidentified data include demographic characteristics, exposure history, disease severity indicators and outcomes.\n",
    "\n",
    "[COVID-19 Case Surveillance data](https://data.cdc.gov/Case-Surveillance/COVID-19-Case-Surveillance-Public-Use-Data/vbim-akqf/data)\n",
    "\n",
    "\n",
    "Terms of Use for these datasets are documented in detail at [COVID-19 Case Surveillance Public Use Data](https://data.cdc.gov/Case-Surveillance/COVID-19-Case-Surveillance-Public-Use-Data/vbim-akqf/data)\n",
    "\n",
    "The Case Surveillance Task Force and Surveillance Review and Response Group (SRRG) within CDC’s COVID-19 Response provide stewardship for datasets that support the public health community’s access to COVID-19 data while protecting patient privacy."
   ]
  },
  {
   "cell_type": "markdown",
   "metadata": {},
   "source": [
    "## Limitations\n",
    "\n",
    "- As data available is limited to United Stated only, this project analysis will be scoped to this dataset only"
   ]
  },
  {
   "cell_type": "markdown",
   "metadata": {},
   "source": [
    "## Unknowns\n",
    "- As analysis progresses, it is possible some additional demographic data sources may become available which could improve analysis results for this project. If any complementary datasets became available, I would like to use these in for this analysis. "
   ]
  },
  {
   "cell_type": "code",
   "execution_count": null,
   "metadata": {},
   "outputs": [],
   "source": []
  }
 ],
 "metadata": {
  "kernelspec": {
   "display_name": "Python 3",
   "language": "python",
   "name": "python3"
  },
  "language_info": {
   "codemirror_mode": {
    "name": "ipython",
    "version": 3
   },
   "file_extension": ".py",
   "mimetype": "text/x-python",
   "name": "python",
   "nbconvert_exporter": "python",
   "pygments_lexer": "ipython3",
   "version": "3.7.4"
  }
 },
 "nbformat": 4,
 "nbformat_minor": 2
}
